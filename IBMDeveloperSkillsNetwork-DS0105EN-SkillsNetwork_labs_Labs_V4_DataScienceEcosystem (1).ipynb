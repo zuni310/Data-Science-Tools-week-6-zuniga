{
  "metadata": {
    "language_info": {
      "codemirror_mode": {
        "name": "javascript"
      },
      "file_extension": ".js",
      "mimetype": "text/javascript",
      "name": "p5js",
      "nbconvert_exporter": "javascript",
      "pygments_lexer": "javascript",
      "version": "es2017"
    },
    "kernelspec": {
      "name": "p5js",
      "display_name": "p5.js",
      "language": "javascript"
    }
  },
  "nbformat_minor": 4,
  "nbformat": 4,
  "cells": [
    {
      "cell_type": "markdown",
      "source": "# Data Science Tools and Ecosystem",
      "metadata": {
        "tags": []
      }
    },
    {
      "cell_type": "markdown",
      "source": "## Author\nYudel Zuniga",
      "metadata": {}
    },
    {
      "cell_type": "markdown",
      "source": "In this notebook, Data Sience Tools and Ecosystem summarized",
      "metadata": {}
    },
    {
      "cell_type": "markdown",
      "source": "**Objectives:**",
      "metadata": {}
    },
    {
      "cell_type": "markdown",
      "source": "Some of the popular languages that Data Scientist use are:",
      "metadata": {}
    },
    {
      "cell_type": "markdown",
      "source": " 1.  Python\n 2.  R\n 3.  SQL\n 4.  Java\n 5.  Scala\n 6.  C++",
      "metadata": {
        "jp-MarkdownHeadingCollapsed": true,
        "tags": []
      }
    },
    {
      "cell_type": "markdown",
      "source": "Some of the commonly used libraries used by Data Scientist include:",
      "metadata": {
        "tags": []
      }
    },
    {
      "cell_type": "markdown",
      "source": "* Python Libraries\n* Numpy Libraries\n* MatPlotlib Libraries\n* Spark library",
      "metadata": {
        "jp-MarkdownHeadingCollapsed": true,
        "tags": []
      }
    },
    {
      "cell_type": "markdown",
      "source": " | Data Science Tools  |\n| ------ | \n| Jupyter |\n| Apache  | \n| RStudio  |\n| Anaconda |",
      "metadata": {}
    },
    {
      "cell_type": "markdown",
      "source": "### Below are a few examples of evaluating arithmetic expression in Python",
      "metadata": {}
    },
    {
      "cell_type": "code",
      "source": "('This is a simple arithmetic expression to multiply then add integers')",
      "metadata": {
        "trusted": true
      },
      "execution_count": 1,
      "outputs": [
        {
          "execution_count": 1,
          "output_type": "execute_result",
          "data": {
            "text/plain": "This is a simple arithmetic expression to multiply then add integers"
          },
          "metadata": {}
        }
      ]
    },
    {
      "cell_type": "code",
      "source": "(3*4)+5 ",
      "metadata": {
        "trusted": true
      },
      "execution_count": 2,
      "outputs": [
        {
          "execution_count": 2,
          "output_type": "execute_result",
          "data": {
            "text/plain": 17
          },
          "metadata": {}
        }
      ]
    },
    {
      "cell_type": "code",
      "source": "('This will convert 200 minutes to hours by diving by 60')",
      "metadata": {
        "trusted": true
      },
      "execution_count": 8,
      "outputs": [
        {
          "execution_count": 8,
          "output_type": "execute_result",
          "data": {
            "text/plain": "This will convert 200 minutes to hours by diving by 60"
          },
          "metadata": {}
        }
      ]
    },
    {
      "cell_type": "code",
      "source": "200/60",
      "metadata": {
        "trusted": true
      },
      "execution_count": 8,
      "outputs": [
        {
          "execution_count": 8,
          "output_type": "execute_result",
          "data": {
            "text/plain": 3.3333333333333335
          },
          "metadata": {}
        }
      ]
    },
    {
      "cell_type": "code",
      "source": "",
      "metadata": {},
      "execution_count": null,
      "outputs": []
    }
  ]
}